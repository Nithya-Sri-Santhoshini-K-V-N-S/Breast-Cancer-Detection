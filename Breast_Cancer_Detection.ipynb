{
  "nbformat": 4,
  "nbformat_minor": 0,
  "metadata": {
    "colab": {
      "name": "Breast Cancer Detection.ipynb",
      "provenance": []
    },
    "kernelspec": {
      "name": "python3",
      "display_name": "Python 3"
    },
    "language_info": {
      "name": "python"
    }
  },
  "cells": [
    {
      "cell_type": "markdown",
      "metadata": {
        "id": "EzFOdl4FQmBd"
      },
      "source": [
        "## **Breast Cancer Detection**"
      ]
    },
    {
      "cell_type": "code",
      "metadata": {
        "id": "Xx9n2XdSQWPu"
      },
      "source": [
        "import pandas as pd\n",
        "import numpy as np\n",
        "\n",
        "from sklearn.datasets import load_breast_cancer\n",
        "from sklearn.preprocessing import StandardScaler\n",
        "\n",
        "from keras.models import Sequential\n",
        "from keras.layers import Dense"
      ],
      "execution_count": 226,
      "outputs": []
    },
    {
      "cell_type": "code",
      "metadata": {
        "id": "-_T5n1kbQvMC"
      },
      "source": [
        "data = load_breast_cancer()"
      ],
      "execution_count": 227,
      "outputs": []
    },
    {
      "cell_type": "code",
      "metadata": {
        "colab": {
          "base_uri": "https://localhost:8080/"
        },
        "id": "yEfihpYDQv8j",
        "outputId": "6b7a0f2e-06e6-4aba-f96f-637b914f09c7"
      },
      "source": [
        "data.keys()"
      ],
      "execution_count": 228,
      "outputs": [
        {
          "output_type": "execute_result",
          "data": {
            "text/plain": [
              "dict_keys(['data', 'target', 'target_names', 'DESCR', 'feature_names', 'filename'])"
            ]
          },
          "metadata": {},
          "execution_count": 228
        }
      ]
    },
    {
      "cell_type": "code",
      "metadata": {
        "colab": {
          "base_uri": "https://localhost:8080/"
        },
        "id": "cuhDMrcTQysO",
        "outputId": "82dbb1bb-71d1-4c78-85ee-4d0c048f49e7"
      },
      "source": [
        "print(data['DESCR'])"
      ],
      "execution_count": 229,
      "outputs": [
        {
          "output_type": "stream",
          "name": "stdout",
          "text": [
            ".. _breast_cancer_dataset:\n",
            "\n",
            "Breast cancer wisconsin (diagnostic) dataset\n",
            "--------------------------------------------\n",
            "\n",
            "**Data Set Characteristics:**\n",
            "\n",
            "    :Number of Instances: 569\n",
            "\n",
            "    :Number of Attributes: 30 numeric, predictive attributes and the class\n",
            "\n",
            "    :Attribute Information:\n",
            "        - radius (mean of distances from center to points on the perimeter)\n",
            "        - texture (standard deviation of gray-scale values)\n",
            "        - perimeter\n",
            "        - area\n",
            "        - smoothness (local variation in radius lengths)\n",
            "        - compactness (perimeter^2 / area - 1.0)\n",
            "        - concavity (severity of concave portions of the contour)\n",
            "        - concave points (number of concave portions of the contour)\n",
            "        - symmetry \n",
            "        - fractal dimension (\"coastline approximation\" - 1)\n",
            "\n",
            "        The mean, standard error, and \"worst\" or largest (mean of the three\n",
            "        largest values) of these features were computed for each image,\n",
            "        resulting in 30 features.  For instance, field 3 is Mean Radius, field\n",
            "        13 is Radius SE, field 23 is Worst Radius.\n",
            "\n",
            "        - class:\n",
            "                - WDBC-Malignant\n",
            "                - WDBC-Benign\n",
            "\n",
            "    :Summary Statistics:\n",
            "\n",
            "    ===================================== ====== ======\n",
            "                                           Min    Max\n",
            "    ===================================== ====== ======\n",
            "    radius (mean):                        6.981  28.11\n",
            "    texture (mean):                       9.71   39.28\n",
            "    perimeter (mean):                     43.79  188.5\n",
            "    area (mean):                          143.5  2501.0\n",
            "    smoothness (mean):                    0.053  0.163\n",
            "    compactness (mean):                   0.019  0.345\n",
            "    concavity (mean):                     0.0    0.427\n",
            "    concave points (mean):                0.0    0.201\n",
            "    symmetry (mean):                      0.106  0.304\n",
            "    fractal dimension (mean):             0.05   0.097\n",
            "    radius (standard error):              0.112  2.873\n",
            "    texture (standard error):             0.36   4.885\n",
            "    perimeter (standard error):           0.757  21.98\n",
            "    area (standard error):                6.802  542.2\n",
            "    smoothness (standard error):          0.002  0.031\n",
            "    compactness (standard error):         0.002  0.135\n",
            "    concavity (standard error):           0.0    0.396\n",
            "    concave points (standard error):      0.0    0.053\n",
            "    symmetry (standard error):            0.008  0.079\n",
            "    fractal dimension (standard error):   0.001  0.03\n",
            "    radius (worst):                       7.93   36.04\n",
            "    texture (worst):                      12.02  49.54\n",
            "    perimeter (worst):                    50.41  251.2\n",
            "    area (worst):                         185.2  4254.0\n",
            "    smoothness (worst):                   0.071  0.223\n",
            "    compactness (worst):                  0.027  1.058\n",
            "    concavity (worst):                    0.0    1.252\n",
            "    concave points (worst):               0.0    0.291\n",
            "    symmetry (worst):                     0.156  0.664\n",
            "    fractal dimension (worst):            0.055  0.208\n",
            "    ===================================== ====== ======\n",
            "\n",
            "    :Missing Attribute Values: None\n",
            "\n",
            "    :Class Distribution: 212 - Malignant, 357 - Benign\n",
            "\n",
            "    :Creator:  Dr. William H. Wolberg, W. Nick Street, Olvi L. Mangasarian\n",
            "\n",
            "    :Donor: Nick Street\n",
            "\n",
            "    :Date: November, 1995\n",
            "\n",
            "This is a copy of UCI ML Breast Cancer Wisconsin (Diagnostic) datasets.\n",
            "https://goo.gl/U2Uwz2\n",
            "\n",
            "Features are computed from a digitized image of a fine needle\n",
            "aspirate (FNA) of a breast mass.  They describe\n",
            "characteristics of the cell nuclei present in the image.\n",
            "\n",
            "Separating plane described above was obtained using\n",
            "Multisurface Method-Tree (MSM-T) [K. P. Bennett, \"Decision Tree\n",
            "Construction Via Linear Programming.\" Proceedings of the 4th\n",
            "Midwest Artificial Intelligence and Cognitive Science Society,\n",
            "pp. 97-101, 1992], a classification method which uses linear\n",
            "programming to construct a decision tree.  Relevant features\n",
            "were selected using an exhaustive search in the space of 1-4\n",
            "features and 1-3 separating planes.\n",
            "\n",
            "The actual linear program used to obtain the separating plane\n",
            "in the 3-dimensional space is that described in:\n",
            "[K. P. Bennett and O. L. Mangasarian: \"Robust Linear\n",
            "Programming Discrimination of Two Linearly Inseparable Sets\",\n",
            "Optimization Methods and Software 1, 1992, 23-34].\n",
            "\n",
            "This database is also available through the UW CS ftp server:\n",
            "\n",
            "ftp ftp.cs.wisc.edu\n",
            "cd math-prog/cpo-dataset/machine-learn/WDBC/\n",
            "\n",
            ".. topic:: References\n",
            "\n",
            "   - W.N. Street, W.H. Wolberg and O.L. Mangasarian. Nuclear feature extraction \n",
            "     for breast tumor diagnosis. IS&T/SPIE 1993 International Symposium on \n",
            "     Electronic Imaging: Science and Technology, volume 1905, pages 861-870,\n",
            "     San Jose, CA, 1993.\n",
            "   - O.L. Mangasarian, W.N. Street and W.H. Wolberg. Breast cancer diagnosis and \n",
            "     prognosis via linear programming. Operations Research, 43(4), pages 570-577, \n",
            "     July-August 1995.\n",
            "   - W.H. Wolberg, W.N. Street, and O.L. Mangasarian. Machine learning techniques\n",
            "     to diagnose breast cancer from fine-needle aspirates. Cancer Letters 77 (1994) \n",
            "     163-171.\n"
          ]
        }
      ]
    },
    {
      "cell_type": "code",
      "metadata": {
        "colab": {
          "base_uri": "https://localhost:8080/"
        },
        "id": "ripGaEhcQ1RD",
        "outputId": "4c78621b-81ee-4dce-ed07-8c8645689d9d"
      },
      "source": [
        "data['data'].shape"
      ],
      "execution_count": 230,
      "outputs": [
        {
          "output_type": "execute_result",
          "data": {
            "text/plain": [
              "(569, 30)"
            ]
          },
          "metadata": {},
          "execution_count": 230
        }
      ]
    },
    {
      "cell_type": "code",
      "metadata": {
        "colab": {
          "base_uri": "https://localhost:8080/"
        },
        "id": "KcQ8l2BZQ48D",
        "outputId": "45b8ac4c-10f5-434c-91ef-f241167e9077"
      },
      "source": [
        "data['feature_names']"
      ],
      "execution_count": 231,
      "outputs": [
        {
          "output_type": "execute_result",
          "data": {
            "text/plain": [
              "array(['mean radius', 'mean texture', 'mean perimeter', 'mean area',\n",
              "       'mean smoothness', 'mean compactness', 'mean concavity',\n",
              "       'mean concave points', 'mean symmetry', 'mean fractal dimension',\n",
              "       'radius error', 'texture error', 'perimeter error', 'area error',\n",
              "       'smoothness error', 'compactness error', 'concavity error',\n",
              "       'concave points error', 'symmetry error',\n",
              "       'fractal dimension error', 'worst radius', 'worst texture',\n",
              "       'worst perimeter', 'worst area', 'worst smoothness',\n",
              "       'worst compactness', 'worst concavity', 'worst concave points',\n",
              "       'worst symmetry', 'worst fractal dimension'], dtype='<U23')"
            ]
          },
          "metadata": {},
          "execution_count": 231
        }
      ]
    },
    {
      "cell_type": "code",
      "metadata": {
        "colab": {
          "base_uri": "https://localhost:8080/"
        },
        "id": "IxMNUB96Q_sO",
        "outputId": "eef777e7-a50f-402e-f1fd-061601b852ad"
      },
      "source": [
        "data['data'][0]"
      ],
      "execution_count": 232,
      "outputs": [
        {
          "output_type": "execute_result",
          "data": {
            "text/plain": [
              "array([1.799e+01, 1.038e+01, 1.228e+02, 1.001e+03, 1.184e-01, 2.776e-01,\n",
              "       3.001e-01, 1.471e-01, 2.419e-01, 7.871e-02, 1.095e+00, 9.053e-01,\n",
              "       8.589e+00, 1.534e+02, 6.399e-03, 4.904e-02, 5.373e-02, 1.587e-02,\n",
              "       3.003e-02, 6.193e-03, 2.538e+01, 1.733e+01, 1.846e+02, 2.019e+03,\n",
              "       1.622e-01, 6.656e-01, 7.119e-01, 2.654e-01, 4.601e-01, 1.189e-01])"
            ]
          },
          "metadata": {},
          "execution_count": 232
        }
      ]
    },
    {
      "cell_type": "code",
      "metadata": {
        "colab": {
          "base_uri": "https://localhost:8080/"
        },
        "id": "N235WFyxREpo",
        "outputId": "0e28065e-af34-4b65-ad62-daf301ae1478"
      },
      "source": [
        "j = 0\n",
        "for i in data['feature_names']:\n",
        "  print(i,\":\",data['data'][0][j])\n",
        "  j+=1"
      ],
      "execution_count": 233,
      "outputs": [
        {
          "output_type": "stream",
          "name": "stdout",
          "text": [
            "mean radius : 17.99\n",
            "mean texture : 10.38\n",
            "mean perimeter : 122.8\n",
            "mean area : 1001.0\n",
            "mean smoothness : 0.1184\n",
            "mean compactness : 0.2776\n",
            "mean concavity : 0.3001\n",
            "mean concave points : 0.1471\n",
            "mean symmetry : 0.2419\n",
            "mean fractal dimension : 0.07871\n",
            "radius error : 1.095\n",
            "texture error : 0.9053\n",
            "perimeter error : 8.589\n",
            "area error : 153.4\n",
            "smoothness error : 0.006399\n",
            "compactness error : 0.04904\n",
            "concavity error : 0.05373\n",
            "concave points error : 0.01587\n",
            "symmetry error : 0.03003\n",
            "fractal dimension error : 0.006193\n",
            "worst radius : 25.38\n",
            "worst texture : 17.33\n",
            "worst perimeter : 184.6\n",
            "worst area : 2019.0\n",
            "worst smoothness : 0.1622\n",
            "worst compactness : 0.6656\n",
            "worst concavity : 0.7119\n",
            "worst concave points : 0.2654\n",
            "worst symmetry : 0.4601\n",
            "worst fractal dimension : 0.1189\n"
          ]
        }
      ]
    },
    {
      "cell_type": "code",
      "metadata": {
        "id": "I945-QPsRL2A"
      },
      "source": [
        "feature = data['data']"
      ],
      "execution_count": 234,
      "outputs": []
    },
    {
      "cell_type": "code",
      "metadata": {
        "id": "G-dJU216RYjG"
      },
      "source": [
        "label = data['target']"
      ],
      "execution_count": 235,
      "outputs": []
    },
    {
      "cell_type": "code",
      "metadata": {
        "colab": {
          "base_uri": "https://localhost:8080/"
        },
        "id": "yKpPo8uNRcch",
        "outputId": "43974f9a-d9fa-4af3-be59-f64409961317"
      },
      "source": [
        "data['target_names']"
      ],
      "execution_count": 236,
      "outputs": [
        {
          "output_type": "execute_result",
          "data": {
            "text/plain": [
              "array(['malignant', 'benign'], dtype='<U9')"
            ]
          },
          "metadata": {},
          "execution_count": 236
        }
      ]
    },
    {
      "cell_type": "code",
      "metadata": {
        "colab": {
          "base_uri": "https://localhost:8080/"
        },
        "id": "KZxKUOmYRfsK",
        "outputId": "dc831567-6081-43df-fd26-241f8ec58ded"
      },
      "source": [
        "feature.shape"
      ],
      "execution_count": 237,
      "outputs": [
        {
          "output_type": "execute_result",
          "data": {
            "text/plain": [
              "(569, 30)"
            ]
          },
          "metadata": {},
          "execution_count": 237
        }
      ]
    },
    {
      "cell_type": "code",
      "metadata": {
        "colab": {
          "base_uri": "https://localhost:8080/"
        },
        "id": "Fl2ynj61RjeD",
        "outputId": "7567d793-6217-403a-fba0-158887df3309"
      },
      "source": [
        "label.shape"
      ],
      "execution_count": 238,
      "outputs": [
        {
          "output_type": "execute_result",
          "data": {
            "text/plain": [
              "(569,)"
            ]
          },
          "metadata": {},
          "execution_count": 238
        }
      ]
    },
    {
      "cell_type": "code",
      "metadata": {
        "id": "ExijchbRRoGi"
      },
      "source": [
        "scale = StandardScaler()\n",
        "\n",
        "feature = scale.fit_transform(feature)"
      ],
      "execution_count": 239,
      "outputs": []
    },
    {
      "cell_type": "code",
      "metadata": {
        "colab": {
          "base_uri": "https://localhost:8080/"
        },
        "id": "mvdCjJdwRupu",
        "outputId": "df4bfcf0-8247-43aa-fde0-a203d121d922"
      },
      "source": [
        "j = 0\n",
        "for i in data['feature_names']:\n",
        "  print(i,\":\",feature[0][j])\n",
        "  j+=1"
      ],
      "execution_count": 240,
      "outputs": [
        {
          "output_type": "stream",
          "name": "stdout",
          "text": [
            "mean radius : 1.0970639814699807\n",
            "mean texture : -2.0733350146975935\n",
            "mean perimeter : 1.2699336881399383\n",
            "mean area : 0.9843749048031144\n",
            "mean smoothness : 1.568466329243428\n",
            "mean compactness : 3.2835146709868264\n",
            "mean concavity : 2.652873983743168\n",
            "mean concave points : 2.532475216403245\n",
            "mean symmetry : 2.2175150059646405\n",
            "mean fractal dimension : 2.255746885296269\n",
            "radius error : 2.4897339267376193\n",
            "texture error : -0.5652650590684639\n",
            "perimeter error : 2.833030865855184\n",
            "area error : 2.4875775569611043\n",
            "smoothness error : -0.21400164666895383\n",
            "compactness error : 1.3168615683959484\n",
            "concavity error : 0.72402615808036\n",
            "concave points error : 0.6608199414286064\n",
            "symmetry error : 1.1487566671861758\n",
            "fractal dimension error : 0.9070830809973359\n",
            "worst radius : 1.8866896251792757\n",
            "worst texture : -1.3592934737640827\n",
            "worst perimeter : 2.3036006236225606\n",
            "worst area : 2.0012374893299207\n",
            "worst smoothness : 1.3076862710715387\n",
            "worst compactness : 2.616665023512603\n",
            "worst concavity : 2.1095263465722556\n",
            "worst concave points : 2.296076127561788\n",
            "worst symmetry : 2.750622244124955\n",
            "worst fractal dimension : 1.9370146123781782\n"
          ]
        }
      ]
    },
    {
      "cell_type": "code",
      "metadata": {
        "colab": {
          "base_uri": "https://localhost:8080/"
        },
        "id": "q09meBMPRyJt",
        "outputId": "6113a582-3407-4440-8d22-45ae31600221"
      },
      "source": [
        "print(feature[568])\n",
        "print(data['target_names'][label[568]],label[568])"
      ],
      "execution_count": 241,
      "outputs": [
        {
          "output_type": "stream",
          "name": "stdout",
          "text": [
            "[-1.80840125  1.22179204 -1.81438851 -1.34778924 -3.11208479 -1.15075248\n",
            " -1.11487284 -1.26181958 -0.8200699  -0.56103238 -0.07027874  0.3830925\n",
            " -0.15744905 -0.46615196  0.04934236 -1.16351619 -1.05750068 -1.91344745\n",
            "  0.75282996 -0.382754   -1.41089258  0.76418957 -1.43273495 -1.07581292\n",
            " -1.85901852 -1.2075525  -1.30583065 -1.74506282 -0.04813821 -0.75120669]\n",
            "benign 1\n"
          ]
        }
      ]
    },
    {
      "cell_type": "code",
      "metadata": {
        "id": "Lad5RaGNR3YU"
      },
      "source": [
        "df_frt = pd.DataFrame(feature , columns = data['feature_names'])\n",
        "df_lbl = pd.DataFrame(label , columns = ['label'])\n",
        "df = pd.concat([df_frt, df_lbl], axis=1)\n",
        "df = df.sample(frac = 1)\n",
        "\n",
        "feature = df.values[ : , : 30]\n",
        "label = df.values[ : ,30: ]"
      ],
      "execution_count": 242,
      "outputs": []
    },
    {
      "cell_type": "code",
      "metadata": {
        "colab": {
          "base_uri": "https://localhost:8080/",
          "height": 473
        },
        "id": "ssio0yuUSA_J",
        "outputId": "2463dc95-00a6-4e59-ddc5-1c8a94cdd99c"
      },
      "source": [
        "df"
      ],
      "execution_count": 243,
      "outputs": [
        {
          "output_type": "execute_result",
          "data": {
            "text/html": [
              "<div>\n",
              "<style scoped>\n",
              "    .dataframe tbody tr th:only-of-type {\n",
              "        vertical-align: middle;\n",
              "    }\n",
              "\n",
              "    .dataframe tbody tr th {\n",
              "        vertical-align: top;\n",
              "    }\n",
              "\n",
              "    .dataframe thead th {\n",
              "        text-align: right;\n",
              "    }\n",
              "</style>\n",
              "<table border=\"1\" class=\"dataframe\">\n",
              "  <thead>\n",
              "    <tr style=\"text-align: right;\">\n",
              "      <th></th>\n",
              "      <th>mean radius</th>\n",
              "      <th>mean texture</th>\n",
              "      <th>mean perimeter</th>\n",
              "      <th>mean area</th>\n",
              "      <th>mean smoothness</th>\n",
              "      <th>mean compactness</th>\n",
              "      <th>mean concavity</th>\n",
              "      <th>mean concave points</th>\n",
              "      <th>mean symmetry</th>\n",
              "      <th>mean fractal dimension</th>\n",
              "      <th>radius error</th>\n",
              "      <th>texture error</th>\n",
              "      <th>perimeter error</th>\n",
              "      <th>area error</th>\n",
              "      <th>smoothness error</th>\n",
              "      <th>compactness error</th>\n",
              "      <th>concavity error</th>\n",
              "      <th>concave points error</th>\n",
              "      <th>symmetry error</th>\n",
              "      <th>fractal dimension error</th>\n",
              "      <th>worst radius</th>\n",
              "      <th>worst texture</th>\n",
              "      <th>worst perimeter</th>\n",
              "      <th>worst area</th>\n",
              "      <th>worst smoothness</th>\n",
              "      <th>worst compactness</th>\n",
              "      <th>worst concavity</th>\n",
              "      <th>worst concave points</th>\n",
              "      <th>worst symmetry</th>\n",
              "      <th>worst fractal dimension</th>\n",
              "      <th>label</th>\n",
              "    </tr>\n",
              "  </thead>\n",
              "  <tbody>\n",
              "    <tr>\n",
              "      <th>101</th>\n",
              "      <td>-2.029648</td>\n",
              "      <td>-1.363580</td>\n",
              "      <td>-1.984504</td>\n",
              "      <td>-1.454443</td>\n",
              "      <td>1.468835</td>\n",
              "      <td>-0.543168</td>\n",
              "      <td>-1.114873</td>\n",
              "      <td>-1.261820</td>\n",
              "      <td>0.432204</td>\n",
              "      <td>2.180614</td>\n",
              "      <td>-0.653527</td>\n",
              "      <td>0.528240</td>\n",
              "      <td>-0.650005</td>\n",
              "      <td>-0.671142</td>\n",
              "      <td>1.049716</td>\n",
              "      <td>-0.818119</td>\n",
              "      <td>-1.057501</td>\n",
              "      <td>-1.913447</td>\n",
              "      <td>0.732247</td>\n",
              "      <td>0.115403</td>\n",
              "      <td>-1.726901</td>\n",
              "      <td>-0.999409</td>\n",
              "      <td>-1.693361</td>\n",
              "      <td>-1.222423</td>\n",
              "      <td>1.141110</td>\n",
              "      <td>-0.852841</td>\n",
              "      <td>-1.305831</td>\n",
              "      <td>-1.745063</td>\n",
              "      <td>0.050546</td>\n",
              "      <td>0.547186</td>\n",
              "      <td>1</td>\n",
              "    </tr>\n",
              "    <tr>\n",
              "      <th>460</th>\n",
              "      <td>0.838611</td>\n",
              "      <td>1.829157</td>\n",
              "      <td>0.792127</td>\n",
              "      <td>0.785003</td>\n",
              "      <td>0.186433</td>\n",
              "      <td>0.126198</td>\n",
              "      <td>0.149413</td>\n",
              "      <td>0.396991</td>\n",
              "      <td>-0.067976</td>\n",
              "      <td>0.001756</td>\n",
              "      <td>1.890966</td>\n",
              "      <td>-0.117666</td>\n",
              "      <td>1.576643</td>\n",
              "      <td>1.647112</td>\n",
              "      <td>0.566363</td>\n",
              "      <td>-0.183773</td>\n",
              "      <td>-0.155298</td>\n",
              "      <td>0.451569</td>\n",
              "      <td>-0.011175</td>\n",
              "      <td>0.235309</td>\n",
              "      <td>1.385550</td>\n",
              "      <td>1.435106</td>\n",
              "      <td>1.335561</td>\n",
              "      <td>1.349052</td>\n",
              "      <td>1.211247</td>\n",
              "      <td>-0.062755</td>\n",
              "      <td>-0.039764</td>\n",
              "      <td>0.622673</td>\n",
              "      <td>0.176733</td>\n",
              "      <td>0.368747</td>\n",
              "      <td>0</td>\n",
              "    </tr>\n",
              "    <tr>\n",
              "      <th>384</th>\n",
              "      <td>-0.240643</td>\n",
              "      <td>-1.296095</td>\n",
              "      <td>-0.254516</td>\n",
              "      <td>-0.321637</td>\n",
              "      <td>-0.905956</td>\n",
              "      <td>-0.352327</td>\n",
              "      <td>-0.477457</td>\n",
              "      <td>-0.523080</td>\n",
              "      <td>-0.710542</td>\n",
              "      <td>-0.972138</td>\n",
              "      <td>-0.800783</td>\n",
              "      <td>-1.244737</td>\n",
              "      <td>-0.630698</td>\n",
              "      <td>-0.551739</td>\n",
              "      <td>-0.923364</td>\n",
              "      <td>-0.265371</td>\n",
              "      <td>-0.119820</td>\n",
              "      <td>-0.539856</td>\n",
              "      <td>-0.718274</td>\n",
              "      <td>-0.447057</td>\n",
              "      <td>-0.420210</td>\n",
              "      <td>-1.352780</td>\n",
              "      <td>-0.317851</td>\n",
              "      <td>-0.451578</td>\n",
              "      <td>-0.691230</td>\n",
              "      <td>0.090554</td>\n",
              "      <td>0.069140</td>\n",
              "      <td>-0.348327</td>\n",
              "      <td>-0.266539</td>\n",
              "      <td>-0.595488</td>\n",
              "      <td>1</td>\n",
              "    </tr>\n",
              "    <tr>\n",
              "      <th>96</th>\n",
              "      <td>-0.553058</td>\n",
              "      <td>-0.337343</td>\n",
              "      <td>-0.584037</td>\n",
              "      <td>-0.579597</td>\n",
              "      <td>0.579267</td>\n",
              "      <td>-0.640010</td>\n",
              "      <td>-0.802254</td>\n",
              "      <td>-0.503219</td>\n",
              "      <td>0.322675</td>\n",
              "      <td>0.503588</td>\n",
              "      <td>-0.141019</td>\n",
              "      <td>0.533683</td>\n",
              "      <td>-0.225763</td>\n",
              "      <td>-0.349763</td>\n",
              "      <td>-0.536015</td>\n",
              "      <td>-0.765024</td>\n",
              "      <td>-0.682495</td>\n",
              "      <td>0.550517</td>\n",
              "      <td>0.200712</td>\n",
              "      <td>-0.146347</td>\n",
              "      <td>-0.712196</td>\n",
              "      <td>-0.774684</td>\n",
              "      <td>-0.748256</td>\n",
              "      <td>-0.677470</td>\n",
              "      <td>-0.805204</td>\n",
              "      <td>-1.022181</td>\n",
              "      <td>-1.066914</td>\n",
              "      <td>-0.849434</td>\n",
              "      <td>-1.089989</td>\n",
              "      <td>-0.564455</td>\n",
              "      <td>1</td>\n",
              "    </tr>\n",
              "    <tr>\n",
              "      <th>45</th>\n",
              "      <td>1.284513</td>\n",
              "      <td>-0.393193</td>\n",
              "      <td>1.307005</td>\n",
              "      <td>1.197683</td>\n",
              "      <td>0.963560</td>\n",
              "      <td>1.217803</td>\n",
              "      <td>1.363478</td>\n",
              "      <td>1.340793</td>\n",
              "      <td>0.348232</td>\n",
              "      <td>-0.327128</td>\n",
              "      <td>0.807481</td>\n",
              "      <td>-1.004336</td>\n",
              "      <td>0.706379</td>\n",
              "      <td>0.686958</td>\n",
              "      <td>-0.249003</td>\n",
              "      <td>0.808267</td>\n",
              "      <td>0.784040</td>\n",
              "      <td>0.836006</td>\n",
              "      <td>0.452555</td>\n",
              "      <td>-0.098309</td>\n",
              "      <td>1.356558</td>\n",
              "      <td>-0.709547</td>\n",
              "      <td>1.290882</td>\n",
              "      <td>1.206661</td>\n",
              "      <td>1.557551</td>\n",
              "      <td>1.620470</td>\n",
              "      <td>2.217950</td>\n",
              "      <td>1.875822</td>\n",
              "      <td>1.453162</td>\n",
              "      <td>0.438017</td>\n",
              "      <td>0</td>\n",
              "    </tr>\n",
              "    <tr>\n",
              "      <th>...</th>\n",
              "      <td>...</td>\n",
              "      <td>...</td>\n",
              "      <td>...</td>\n",
              "      <td>...</td>\n",
              "      <td>...</td>\n",
              "      <td>...</td>\n",
              "      <td>...</td>\n",
              "      <td>...</td>\n",
              "      <td>...</td>\n",
              "      <td>...</td>\n",
              "      <td>...</td>\n",
              "      <td>...</td>\n",
              "      <td>...</td>\n",
              "      <td>...</td>\n",
              "      <td>...</td>\n",
              "      <td>...</td>\n",
              "      <td>...</td>\n",
              "      <td>...</td>\n",
              "      <td>...</td>\n",
              "      <td>...</td>\n",
              "      <td>...</td>\n",
              "      <td>...</td>\n",
              "      <td>...</td>\n",
              "      <td>...</td>\n",
              "      <td>...</td>\n",
              "      <td>...</td>\n",
              "      <td>...</td>\n",
              "      <td>...</td>\n",
              "      <td>...</td>\n",
              "      <td>...</td>\n",
              "      <td>...</td>\n",
              "    </tr>\n",
              "    <tr>\n",
              "      <th>560</th>\n",
              "      <td>-0.021952</td>\n",
              "      <td>1.829157</td>\n",
              "      <td>-0.024262</td>\n",
              "      <td>-0.154973</td>\n",
              "      <td>0.208495</td>\n",
              "      <td>0.156521</td>\n",
              "      <td>-0.554670</td>\n",
              "      <td>-0.151647</td>\n",
              "      <td>-1.002617</td>\n",
              "      <td>-0.154180</td>\n",
              "      <td>-0.146794</td>\n",
              "      <td>0.499211</td>\n",
              "      <td>0.010861</td>\n",
              "      <td>-0.230954</td>\n",
              "      <td>0.071677</td>\n",
              "      <td>0.072760</td>\n",
              "      <td>-0.370819</td>\n",
              "      <td>0.724082</td>\n",
              "      <td>0.031202</td>\n",
              "      <td>0.570818</td>\n",
              "      <td>-0.200702</td>\n",
              "      <td>1.220152</td>\n",
              "      <td>-0.210324</td>\n",
              "      <td>-0.305671</td>\n",
              "      <td>-0.362461</td>\n",
              "      <td>-0.177261</td>\n",
              "      <td>-0.669679</td>\n",
              "      <td>-0.149315</td>\n",
              "      <td>-1.052780</td>\n",
              "      <td>-0.040776</td>\n",
              "      <td>1</td>\n",
              "    </tr>\n",
              "    <tr>\n",
              "      <th>403</th>\n",
              "      <td>-0.337208</td>\n",
              "      <td>-0.725963</td>\n",
              "      <td>-0.362022</td>\n",
              "      <td>-0.418905</td>\n",
              "      <td>0.172912</td>\n",
              "      <td>-0.302863</td>\n",
              "      <td>-0.701061</td>\n",
              "      <td>-0.645343</td>\n",
              "      <td>-0.279730</td>\n",
              "      <td>-0.113069</td>\n",
              "      <td>-0.936128</td>\n",
              "      <td>-0.565809</td>\n",
              "      <td>-0.924994</td>\n",
              "      <td>-0.637545</td>\n",
              "      <td>-1.384716</td>\n",
              "      <td>-0.705781</td>\n",
              "      <td>-0.522678</td>\n",
              "      <td>-0.728019</td>\n",
              "      <td>-0.223063</td>\n",
              "      <td>-0.689516</td>\n",
              "      <td>-0.498901</td>\n",
              "      <td>-0.432712</td>\n",
              "      <td>-0.523373</td>\n",
              "      <td>-0.526817</td>\n",
              "      <td>-0.664929</td>\n",
              "      <td>-0.371919</td>\n",
              "      <td>-0.437479</td>\n",
              "      <td>-0.467856</td>\n",
              "      <td>0.641036</td>\n",
              "      <td>-0.310651</td>\n",
              "      <td>1</td>\n",
              "    </tr>\n",
              "    <tr>\n",
              "      <th>300</th>\n",
              "      <td>1.534446</td>\n",
              "      <td>-0.090674</td>\n",
              "      <td>1.545908</td>\n",
              "      <td>1.598701</td>\n",
              "      <td>1.326504</td>\n",
              "      <td>1.134417</td>\n",
              "      <td>1.643454</td>\n",
              "      <td>1.477501</td>\n",
              "      <td>-0.071627</td>\n",
              "      <td>0.385927</td>\n",
              "      <td>2.547481</td>\n",
              "      <td>-0.101337</td>\n",
              "      <td>2.163749</td>\n",
              "      <td>2.038743</td>\n",
              "      <td>-0.328340</td>\n",
              "      <td>0.366181</td>\n",
              "      <td>0.811892</td>\n",
              "      <td>0.897646</td>\n",
              "      <td>-0.206112</td>\n",
              "      <td>0.375262</td>\n",
              "      <td>2.000585</td>\n",
              "      <td>0.091645</td>\n",
              "      <td>1.901492</td>\n",
              "      <td>2.061007</td>\n",
              "      <td>0.750970</td>\n",
              "      <td>1.000870</td>\n",
              "      <td>1.630733</td>\n",
              "      <td>1.269803</td>\n",
              "      <td>0.108787</td>\n",
              "      <td>0.850310</td>\n",
              "      <td>0</td>\n",
              "    </tr>\n",
              "    <tr>\n",
              "      <th>234</th>\n",
              "      <td>-1.295188</td>\n",
              "      <td>-0.786467</td>\n",
              "      <td>-1.308161</td>\n",
              "      <td>-1.067361</td>\n",
              "      <td>-0.834079</td>\n",
              "      <td>-1.202869</td>\n",
              "      <td>-0.907465</td>\n",
              "      <td>-0.831834</td>\n",
              "      <td>-0.951504</td>\n",
              "      <td>0.174704</td>\n",
              "      <td>-0.685649</td>\n",
              "      <td>-0.701704</td>\n",
              "      <td>-0.817325</td>\n",
              "      <td>-0.609383</td>\n",
              "      <td>1.533069</td>\n",
              "      <td>-0.842710</td>\n",
              "      <td>-0.664258</td>\n",
              "      <td>-0.352504</td>\n",
              "      <td>0.398070</td>\n",
              "      <td>-0.096418</td>\n",
              "      <td>-1.192628</td>\n",
              "      <td>-1.061289</td>\n",
              "      <td>-1.236744</td>\n",
              "      <td>-0.957505</td>\n",
              "      <td>0.790423</td>\n",
              "      <td>-1.012194</td>\n",
              "      <td>-0.962280</td>\n",
              "      <td>-0.645398</td>\n",
              "      <td>-0.232565</td>\n",
              "      <td>-0.120021</td>\n",
              "      <td>1</td>\n",
              "    </tr>\n",
              "    <tr>\n",
              "      <th>400</th>\n",
              "      <td>1.074343</td>\n",
              "      <td>0.402664</td>\n",
              "      <td>1.335838</td>\n",
              "      <td>0.964466</td>\n",
              "      <td>1.895827</td>\n",
              "      <td>2.904485</td>\n",
              "      <td>2.888907</td>\n",
              "      <td>1.828299</td>\n",
              "      <td>1.100326</td>\n",
              "      <td>1.184038</td>\n",
              "      <td>-0.007839</td>\n",
              "      <td>-0.802218</td>\n",
              "      <td>0.127194</td>\n",
              "      <td>0.025806</td>\n",
              "      <td>0.039342</td>\n",
              "      <td>0.654012</td>\n",
              "      <td>0.986630</td>\n",
              "      <td>-0.208624</td>\n",
              "      <td>-0.560872</td>\n",
              "      <td>0.493276</td>\n",
              "      <td>0.938252</td>\n",
              "      <td>0.342424</td>\n",
              "      <td>1.261096</td>\n",
              "      <td>0.744330</td>\n",
              "      <td>2.407967</td>\n",
              "      <td>2.146558</td>\n",
              "      <td>3.028252</td>\n",
              "      <td>1.245441</td>\n",
              "      <td>0.556912</td>\n",
              "      <td>1.986889</td>\n",
              "      <td>0</td>\n",
              "    </tr>\n",
              "  </tbody>\n",
              "</table>\n",
              "<p>569 rows × 31 columns</p>\n",
              "</div>"
            ],
            "text/plain": [
              "     mean radius  mean texture  ...  worst fractal dimension  label\n",
              "101    -2.029648     -1.363580  ...                 0.547186      1\n",
              "460     0.838611      1.829157  ...                 0.368747      0\n",
              "384    -0.240643     -1.296095  ...                -0.595488      1\n",
              "96     -0.553058     -0.337343  ...                -0.564455      1\n",
              "45      1.284513     -0.393193  ...                 0.438017      0\n",
              "..           ...           ...  ...                      ...    ...\n",
              "560    -0.021952      1.829157  ...                -0.040776      1\n",
              "403    -0.337208     -0.725963  ...                -0.310651      1\n",
              "300     1.534446     -0.090674  ...                 0.850310      0\n",
              "234    -1.295188     -0.786467  ...                -0.120021      1\n",
              "400     1.074343      0.402664  ...                 1.986889      0\n",
              "\n",
              "[569 rows x 31 columns]"
            ]
          },
          "metadata": {},
          "execution_count": 243
        }
      ]
    },
    {
      "cell_type": "code",
      "metadata": {
        "id": "5YrLiO-NSDgu"
      },
      "source": [
        "#500 Training\n",
        "X_train = feature[:500]\n",
        "y_train = label[:500]\n",
        "\n",
        "#35 Validation\n",
        "X_val = feature[500:535]\n",
        "y_val = label[500:535]\n",
        "\n",
        "#34 Testing\n",
        "X_test = feature[535:]\n",
        "y_test = label[535:]"
      ],
      "execution_count": 244,
      "outputs": []
    },
    {
      "cell_type": "code",
      "metadata": {
        "id": "ihkRe64SSJAa"
      },
      "source": [
        "model = Sequential()\n",
        "\n",
        "model.add(Dense(15, activation = 'relu', input_dim = 30))\n",
        "model.add(Dense(13, activation = 'relu'))\n",
        "model.add(Dense(10, activation = 'relu'))\n",
        "model.add(Dense(8, activation = 'relu'))\n",
        "model.add(Dense(5, activation = 'relu'))\n",
        "model.add(Dense(1, activation = 'sigmoid'))\n",
        "\n",
        "model.compile( loss = 'binary_crossentropy' , optimizer = 'adam' , metrics = ['accuracy'])"
      ],
      "execution_count": 245,
      "outputs": []
    },
    {
      "cell_type": "code",
      "metadata": {
        "colab": {
          "base_uri": "https://localhost:8080/"
        },
        "id": "c6i37Bb9SN75",
        "outputId": "b52d7df3-0283-4b55-f778-6f33c986aa86"
      },
      "source": [
        "model.fit( X_train , y_train, epochs = 10, batch_size = 1, validation_data = (X_val, y_val))"
      ],
      "execution_count": 246,
      "outputs": [
        {
          "output_type": "stream",
          "name": "stdout",
          "text": [
            "Epoch 1/10\n",
            "500/500 [==============================] - 1s 2ms/step - loss: 0.2750 - accuracy: 0.9140 - val_loss: 0.1201 - val_accuracy: 0.9714\n",
            "Epoch 2/10\n",
            "500/500 [==============================] - 1s 2ms/step - loss: 0.0699 - accuracy: 0.9780 - val_loss: 0.1249 - val_accuracy: 0.9714\n",
            "Epoch 3/10\n",
            "500/500 [==============================] - 1s 2ms/step - loss: 0.0598 - accuracy: 0.9820 - val_loss: 0.1183 - val_accuracy: 0.9714\n",
            "Epoch 4/10\n",
            "500/500 [==============================] - 1s 2ms/step - loss: 0.0587 - accuracy: 0.9840 - val_loss: 0.0888 - val_accuracy: 0.9714\n",
            "Epoch 5/10\n",
            "500/500 [==============================] - 1s 2ms/step - loss: 0.0469 - accuracy: 0.9840 - val_loss: 0.0824 - val_accuracy: 0.9714\n",
            "Epoch 6/10\n",
            "500/500 [==============================] - 1s 2ms/step - loss: 0.0331 - accuracy: 0.9880 - val_loss: 0.1315 - val_accuracy: 0.9714\n",
            "Epoch 7/10\n",
            "500/500 [==============================] - 1s 2ms/step - loss: 0.0277 - accuracy: 0.9940 - val_loss: 0.0573 - val_accuracy: 0.9714\n",
            "Epoch 8/10\n",
            "500/500 [==============================] - 1s 2ms/step - loss: 0.0241 - accuracy: 0.9920 - val_loss: 0.0732 - val_accuracy: 0.9714\n",
            "Epoch 9/10\n",
            "500/500 [==============================] - 1s 2ms/step - loss: 0.0220 - accuracy: 0.9900 - val_loss: 0.0682 - val_accuracy: 0.9714\n",
            "Epoch 10/10\n",
            "500/500 [==============================] - 1s 2ms/step - loss: 0.0131 - accuracy: 0.9980 - val_loss: 0.1758 - val_accuracy: 0.9714\n"
          ]
        },
        {
          "output_type": "execute_result",
          "data": {
            "text/plain": [
              "<keras.callbacks.History at 0x7f24d5743890>"
            ]
          },
          "metadata": {},
          "execution_count": 246
        }
      ]
    },
    {
      "cell_type": "code",
      "metadata": {
        "colab": {
          "base_uri": "https://localhost:8080/"
        },
        "id": "-WpD3LtNSYIs",
        "outputId": "b17db41d-6839-4d33-dd01-06789cba8aa3"
      },
      "source": [
        "model.evaluate(X_test , y_test)"
      ],
      "execution_count": 247,
      "outputs": [
        {
          "output_type": "stream",
          "name": "stdout",
          "text": [
            "2/2 [==============================] - 0s 4ms/step - loss: 0.0198 - accuracy: 1.0000\n"
          ]
        },
        {
          "output_type": "execute_result",
          "data": {
            "text/plain": [
              "[0.019825024530291557, 1.0]"
            ]
          },
          "metadata": {},
          "execution_count": 247
        }
      ]
    },
    {
      "cell_type": "code",
      "metadata": {
        "colab": {
          "base_uri": "https://localhost:8080/"
        },
        "id": "9ss4Ue_RSeg0",
        "outputId": "83f6cbca-2c3c-40f4-b537-15c653612ad2"
      },
      "source": [
        "model.evaluate(X_val , y_val)"
      ],
      "execution_count": 248,
      "outputs": [
        {
          "output_type": "stream",
          "name": "stdout",
          "text": [
            "2/2 [==============================] - 0s 7ms/step - loss: 0.1758 - accuracy: 0.9714\n"
          ]
        },
        {
          "output_type": "execute_result",
          "data": {
            "text/plain": [
              "[0.1758236140012741, 0.9714285731315613]"
            ]
          },
          "metadata": {},
          "execution_count": 248
        }
      ]
    },
    {
      "cell_type": "code",
      "metadata": {
        "colab": {
          "base_uri": "https://localhost:8080/"
        },
        "id": "GxCJGWg4Sjo0",
        "outputId": "fd6553cd-0fae-442f-d3a9-4e9dd47f4b21"
      },
      "source": [
        "for i in range(30):\n",
        "  sample = X_test[i]\n",
        "  sample = np.reshape(sample, (1,30))\n",
        "\n",
        "  if (model.predict(sample)[0][0] > 0.5):\n",
        "    print(\"-Benign\")\n",
        "  else:\n",
        "    print(\"-Malignant\")\n",
        "\n",
        "  if (y_test[i] == 1):\n",
        "    print(\"*Banign\")\n",
        "  else:\n",
        "    print(\"*Melignant\")\n",
        "  print(\"-----------\")"
      ],
      "execution_count": 249,
      "outputs": [
        {
          "output_type": "stream",
          "name": "stdout",
          "text": [
            "-Benign\n",
            "*Banign\n",
            "-----------\n",
            "-Malignant\n",
            "*Melignant\n",
            "-----------\n",
            "-Benign\n",
            "*Banign\n",
            "-----------\n",
            "-Benign\n",
            "*Banign\n",
            "-----------\n",
            "-Benign\n",
            "*Banign\n",
            "-----------\n",
            "-Malignant\n",
            "*Melignant\n",
            "-----------\n",
            "-Benign\n",
            "*Banign\n",
            "-----------\n",
            "-Benign\n",
            "*Banign\n",
            "-----------\n",
            "-Malignant\n",
            "*Melignant\n",
            "-----------\n",
            "-Malignant\n",
            "*Melignant\n",
            "-----------\n",
            "-Malignant\n",
            "*Melignant\n",
            "-----------\n",
            "-Benign\n",
            "*Banign\n",
            "-----------\n",
            "-Malignant\n",
            "*Melignant\n",
            "-----------\n",
            "-Benign\n",
            "*Banign\n",
            "-----------\n",
            "-Malignant\n",
            "*Melignant\n",
            "-----------\n",
            "-Benign\n",
            "*Banign\n",
            "-----------\n",
            "-Benign\n",
            "*Banign\n",
            "-----------\n",
            "-Benign\n",
            "*Banign\n",
            "-----------\n",
            "-Benign\n",
            "*Banign\n",
            "-----------\n",
            "-Benign\n",
            "*Banign\n",
            "-----------\n",
            "-Benign\n",
            "*Banign\n",
            "-----------\n",
            "-Benign\n",
            "*Banign\n",
            "-----------\n",
            "-Malignant\n",
            "*Melignant\n",
            "-----------\n",
            "-Benign\n",
            "*Banign\n",
            "-----------\n",
            "-Benign\n",
            "*Banign\n",
            "-----------\n",
            "-Benign\n",
            "*Banign\n",
            "-----------\n",
            "-Malignant\n",
            "*Melignant\n",
            "-----------\n",
            "-Benign\n",
            "*Banign\n",
            "-----------\n",
            "-Malignant\n",
            "*Melignant\n",
            "-----------\n",
            "-Benign\n",
            "*Banign\n",
            "-----------\n"
          ]
        }
      ]
    },
    {
      "cell_type": "code",
      "metadata": {
        "colab": {
          "base_uri": "https://localhost:8080/"
        },
        "id": "ikzt5wjaSnbp",
        "outputId": "cef25d51-5097-494b-a3d0-940b518cc046"
      },
      "source": [
        "t = 0\n",
        "for i in y_val:\n",
        "  if (i == 1):\n",
        "    t += 1\n",
        "\n",
        "print(t)"
      ],
      "execution_count": 250,
      "outputs": [
        {
          "output_type": "stream",
          "name": "stdout",
          "text": [
            "20\n"
          ]
        }
      ]
    },
    {
      "cell_type": "code",
      "metadata": {
        "colab": {
          "base_uri": "https://localhost:8080/"
        },
        "id": "3U4LuzjESzhY",
        "outputId": "41c09fcb-554b-4e01-b284-3d02d81a5705"
      },
      "source": [
        "X_test[0] * -.1"
      ],
      "execution_count": 251,
      "outputs": [
        {
          "output_type": "execute_result",
          "data": {
            "text/plain": [
              "array([-0.00604122,  0.13542713, -0.00222825,  0.00389332, -0.01921267,\n",
              "        0.05325552,  0.03962263,  0.00745226, -0.09615905,  0.11791077,\n",
              "       -0.04216566,  0.07343619, -0.04440131, -0.01749779, -0.00160077,\n",
              "        0.06258588,  0.02749949, -0.01725688, -0.02564081,  0.08820458,\n",
              "       -0.0103709 ,  0.14293163, -0.00934914,  0.00129789,  0.01169802,\n",
              "        0.06473679,  0.05228748,  0.00899317, -0.02608579,  0.12870776])"
            ]
          },
          "metadata": {},
          "execution_count": 251
        }
      ]
    }
  ]
}